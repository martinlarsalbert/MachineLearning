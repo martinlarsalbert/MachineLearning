{
 "cells": [
  {
   "cell_type": "markdown",
   "metadata": {},
   "source": [
    "# Building KNN algorithm"
   ]
  },
  {
   "cell_type": "code",
   "execution_count": 1,
   "metadata": {},
   "outputs": [],
   "source": [
    "# Importing necessary libraries\n",
    "import numpy as np\n",
    "import pandas as pd\n",
    "from scipy import stats"
   ]
  },
  {
   "cell_type": "code",
   "execution_count": 2,
   "metadata": {},
   "outputs": [],
   "source": [
    "from sklearn.preprocessing import StandardScaler\n",
    "from sklearn.neighbors import KNeighborsClassifier \n",
    "from sklearn.model_selection import train_test_split"
   ]
  },
  {
   "cell_type": "markdown",
   "metadata": {},
   "source": [
    "### Methods built for computing KNN classification"
   ]
  },
  {
   "cell_type": "code",
   "execution_count": 3,
   "metadata": {},
   "outputs": [],
   "source": [
    "'''\n",
    "Method Name : execute_euclidean_formula\n",
    "Description : Computes Euclindean distance between two points.\n",
    "Input:    a : vector cordinates of a point, type : numpy array \n",
    "          b : vector coordinates of a point, type : numpy array\n",
    "Return      : Euclidean distance, type : numerical\n",
    "'''\n",
    "def execute_euclidean_formula(a,b):\n",
    "    return np.sqrt(np.sum(np.square(a - b)))\n",
    "\n",
    "'''\n",
    "Method Name  : compute_euclidian_dist\n",
    "Description  : Computes euclidean distance between every point of test data with every other point of train data\n",
    "Input      x : Vector cordinates of train data, type : Dataframe\n",
    "           y : Vector cordinates of test data, type  : Dataframe\n",
    "Return       : Returns a dataframe with x index as row index and y index as column names, type : Dataframe\n",
    "'''\n",
    "def compute_euclidian_dist(x, y):\n",
    "    y_index_values =  y.index.values\n",
    "    x_index_values = x.index.values\n",
    "    eucledianDistance = pd.DataFrame(index=x_index_values)\n",
    "    for y_index in y_index_values:\n",
    "        eucledianDistance[y_index] = -1\n",
    "        for x_index in x_index_values:\n",
    "            distance = execute_euclidean_formula(x.loc[x_index], y.loc[y_index])\n",
    "\n",
    "            eucledianDistance.loc[x_index,y_index] = distance\n",
    "    return eucledianDistance\n",
    "\n",
    "'''\n",
    "Method        : knn_prediction\n",
    "Description   : Makes prediction using Knn Algorithm (Euclidean Distance)\n",
    "Input X_train : Training Data with features, type : DataFrame\n",
    "      y_train : Training Data with only Target variable, type : Series\n",
    "      X_test  : Test Data with features for which the prediction has to done, type : DataFrame\n",
    "      k       : No of Neighbours needed for prediction, type : int\n",
    "returns       : predicted values for the given X_test, type : Series\n",
    "'''\n",
    "def knn_prediction (X_train, y_train, X_test, k=1):\n",
    "    eculidian_dist = compute_euclidian_dist(X_train, X_test)\n",
    "    if (isinstance(y_test.iloc[1], str)):\n",
    "        target_category = True\n",
    "    else:\n",
    "        target_category = False\n",
    "    \n",
    "    distance_metrics = eculidian_dist.columns\n",
    "    y_pred = pd.Series(index= distance_metrics, dtype=object)\n",
    "    for col in distance_metrics:\n",
    "        y_index = eculidian_dist[col].sort_values(ascending = True).head(k).index.values\n",
    "        pred_values = y_train.loc[y_index]\n",
    "        if target_category:\n",
    "            y_pred.loc[col] = stats.mode(pred_values)[0][0]\n",
    "        else:\n",
    "            y_pred.loc[col] = np.mean(pred_values)\n",
    "    return y_pred  "
   ]
  },
  {
   "cell_type": "markdown",
   "metadata": {},
   "source": [
    "### Loading Data"
   ]
  },
  {
   "cell_type": "code",
   "execution_count": 5,
   "metadata": {},
   "outputs": [
    {
     "data": {
      "text/html": [
       "<div>\n",
       "<style scoped>\n",
       "    .dataframe tbody tr th:only-of-type {\n",
       "        vertical-align: middle;\n",
       "    }\n",
       "\n",
       "    .dataframe tbody tr th {\n",
       "        vertical-align: top;\n",
       "    }\n",
       "\n",
       "    .dataframe thead th {\n",
       "        text-align: right;\n",
       "    }\n",
       "</style>\n",
       "<table border=\"1\" class=\"dataframe\">\n",
       "  <thead>\n",
       "    <tr style=\"text-align: right;\">\n",
       "      <th></th>\n",
       "      <th>Sepal.Length</th>\n",
       "      <th>Sepal.Width</th>\n",
       "      <th>Petal.Length</th>\n",
       "      <th>Petal.Width</th>\n",
       "      <th>Species</th>\n",
       "    </tr>\n",
       "  </thead>\n",
       "  <tbody>\n",
       "    <tr>\n",
       "      <th>0</th>\n",
       "      <td>5.1</td>\n",
       "      <td>3.5</td>\n",
       "      <td>1.4</td>\n",
       "      <td>0.2</td>\n",
       "      <td>setosa</td>\n",
       "    </tr>\n",
       "    <tr>\n",
       "      <th>1</th>\n",
       "      <td>4.9</td>\n",
       "      <td>3.0</td>\n",
       "      <td>1.4</td>\n",
       "      <td>0.2</td>\n",
       "      <td>setosa</td>\n",
       "    </tr>\n",
       "    <tr>\n",
       "      <th>2</th>\n",
       "      <td>4.7</td>\n",
       "      <td>3.2</td>\n",
       "      <td>1.3</td>\n",
       "      <td>0.2</td>\n",
       "      <td>setosa</td>\n",
       "    </tr>\n",
       "    <tr>\n",
       "      <th>3</th>\n",
       "      <td>4.6</td>\n",
       "      <td>3.1</td>\n",
       "      <td>1.5</td>\n",
       "      <td>0.2</td>\n",
       "      <td>setosa</td>\n",
       "    </tr>\n",
       "    <tr>\n",
       "      <th>4</th>\n",
       "      <td>5.0</td>\n",
       "      <td>3.6</td>\n",
       "      <td>1.4</td>\n",
       "      <td>0.2</td>\n",
       "      <td>setosa</td>\n",
       "    </tr>\n",
       "  </tbody>\n",
       "</table>\n",
       "</div>"
      ],
      "text/plain": [
       "   Sepal.Length  Sepal.Width  Petal.Length  Petal.Width Species\n",
       "0           5.1          3.5           1.4          0.2  setosa\n",
       "1           4.9          3.0           1.4          0.2  setosa\n",
       "2           4.7          3.2           1.3          0.2  setosa\n",
       "3           4.6          3.1           1.5          0.2  setosa\n",
       "4           5.0          3.6           1.4          0.2  setosa"
      ]
     },
     "execution_count": 5,
     "metadata": {},
     "output_type": "execute_result"
    }
   ],
   "source": [
    "# Using iris dataset for testing.\n",
    "# reading the data\n",
    "iris_data = pd.read_csv('iris.csv').drop('Unnamed: 0', axis=1)\n",
    "iris_data.head()"
   ]
  },
  {
   "cell_type": "markdown",
   "metadata": {},
   "source": [
    "### Testing compute_euclidian_dist function"
   ]
  },
  {
   "cell_type": "code",
   "execution_count": 10,
   "metadata": {},
   "outputs": [],
   "source": [
    "x = iris_data[1:10].drop('Species', axis=1)\n",
    "y = iris_data[11:20].drop('Species', axis=1)"
   ]
  },
  {
   "cell_type": "code",
   "execution_count": 11,
   "metadata": {},
   "outputs": [
    {
     "data": {
      "text/html": [
       "<div>\n",
       "<style scoped>\n",
       "    .dataframe tbody tr th:only-of-type {\n",
       "        vertical-align: middle;\n",
       "    }\n",
       "\n",
       "    .dataframe tbody tr th {\n",
       "        vertical-align: top;\n",
       "    }\n",
       "\n",
       "    .dataframe thead th {\n",
       "        text-align: right;\n",
       "    }\n",
       "</style>\n",
       "<table border=\"1\" class=\"dataframe\">\n",
       "  <thead>\n",
       "    <tr style=\"text-align: right;\">\n",
       "      <th></th>\n",
       "      <th>11</th>\n",
       "      <th>12</th>\n",
       "      <th>13</th>\n",
       "      <th>14</th>\n",
       "      <th>15</th>\n",
       "      <th>16</th>\n",
       "      <th>17</th>\n",
       "      <th>18</th>\n",
       "      <th>19</th>\n",
       "    </tr>\n",
       "  </thead>\n",
       "  <tbody>\n",
       "    <tr>\n",
       "      <th>1</th>\n",
       "      <td>0.458258</td>\n",
       "      <td>0.141421</td>\n",
       "      <td>0.678233</td>\n",
       "      <td>1.360147</td>\n",
       "      <td>1.627882</td>\n",
       "      <td>1.053565</td>\n",
       "      <td>0.547723</td>\n",
       "      <td>1.174734</td>\n",
       "      <td>0.836660</td>\n",
       "    </tr>\n",
       "    <tr>\n",
       "      <th>2</th>\n",
       "      <td>0.374166</td>\n",
       "      <td>0.264575</td>\n",
       "      <td>0.500000</td>\n",
       "      <td>1.363818</td>\n",
       "      <td>1.587451</td>\n",
       "      <td>1.009950</td>\n",
       "      <td>0.519615</td>\n",
       "      <td>1.236932</td>\n",
       "      <td>0.754983</td>\n",
       "    </tr>\n",
       "    <tr>\n",
       "      <th>3</th>\n",
       "      <td>0.374166</td>\n",
       "      <td>0.264575</td>\n",
       "      <td>0.519615</td>\n",
       "      <td>1.529706</td>\n",
       "      <td>1.714643</td>\n",
       "      <td>1.166190</td>\n",
       "      <td>0.655744</td>\n",
       "      <td>1.322876</td>\n",
       "      <td>0.866025</td>\n",
       "    </tr>\n",
       "    <tr>\n",
       "      <th>4</th>\n",
       "      <td>0.346410</td>\n",
       "      <td>0.640312</td>\n",
       "      <td>0.974679</td>\n",
       "      <td>0.916515</td>\n",
       "      <td>1.086278</td>\n",
       "      <td>0.547723</td>\n",
       "      <td>0.173205</td>\n",
       "      <td>0.793725</td>\n",
       "      <td>0.264575</td>\n",
       "    </tr>\n",
       "    <tr>\n",
       "      <th>5</th>\n",
       "      <td>0.812404</td>\n",
       "      <td>1.161895</td>\n",
       "      <td>1.571623</td>\n",
       "      <td>0.678233</td>\n",
       "      <td>0.616441</td>\n",
       "      <td>0.400000</td>\n",
       "      <td>0.591608</td>\n",
       "      <td>0.331662</td>\n",
       "      <td>0.387298</td>\n",
       "    </tr>\n",
       "    <tr>\n",
       "      <th>6</th>\n",
       "      <td>0.300000</td>\n",
       "      <td>0.489898</td>\n",
       "      <td>0.616441</td>\n",
       "      <td>1.360147</td>\n",
       "      <td>1.493318</td>\n",
       "      <td>0.953939</td>\n",
       "      <td>0.509902</td>\n",
       "      <td>1.208305</td>\n",
       "      <td>0.648074</td>\n",
       "    </tr>\n",
       "    <tr>\n",
       "      <th>7</th>\n",
       "      <td>0.223607</td>\n",
       "      <td>0.469042</td>\n",
       "      <td>0.905539</td>\n",
       "      <td>1.044031</td>\n",
       "      <td>1.236932</td>\n",
       "      <td>0.700000</td>\n",
       "      <td>0.200000</td>\n",
       "      <td>0.836660</td>\n",
       "      <td>0.424264</td>\n",
       "    </tr>\n",
       "    <tr>\n",
       "      <th>8</th>\n",
       "      <td>0.670820</td>\n",
       "      <td>0.424264</td>\n",
       "      <td>0.346410</td>\n",
       "      <td>1.791647</td>\n",
       "      <td>1.997498</td>\n",
       "      <td>1.431782</td>\n",
       "      <td>0.927362</td>\n",
       "      <td>1.612452</td>\n",
       "      <td>1.148913</td>\n",
       "    </tr>\n",
       "    <tr>\n",
       "      <th>9</th>\n",
       "      <td>0.346410</td>\n",
       "      <td>0.173205</td>\n",
       "      <td>0.728011</td>\n",
       "      <td>1.311488</td>\n",
       "      <td>1.555635</td>\n",
       "      <td>1.009950</td>\n",
       "      <td>0.500000</td>\n",
       "      <td>1.100000</td>\n",
       "      <td>0.754983</td>\n",
       "    </tr>\n",
       "  </tbody>\n",
       "</table>\n",
       "</div>"
      ],
      "text/plain": [
       "         11        12        13        14        15        16        17  \\\n",
       "1  0.458258  0.141421  0.678233  1.360147  1.627882  1.053565  0.547723   \n",
       "2  0.374166  0.264575  0.500000  1.363818  1.587451  1.009950  0.519615   \n",
       "3  0.374166  0.264575  0.519615  1.529706  1.714643  1.166190  0.655744   \n",
       "4  0.346410  0.640312  0.974679  0.916515  1.086278  0.547723  0.173205   \n",
       "5  0.812404  1.161895  1.571623  0.678233  0.616441  0.400000  0.591608   \n",
       "6  0.300000  0.489898  0.616441  1.360147  1.493318  0.953939  0.509902   \n",
       "7  0.223607  0.469042  0.905539  1.044031  1.236932  0.700000  0.200000   \n",
       "8  0.670820  0.424264  0.346410  1.791647  1.997498  1.431782  0.927362   \n",
       "9  0.346410  0.173205  0.728011  1.311488  1.555635  1.009950  0.500000   \n",
       "\n",
       "         18        19  \n",
       "1  1.174734  0.836660  \n",
       "2  1.236932  0.754983  \n",
       "3  1.322876  0.866025  \n",
       "4  0.793725  0.264575  \n",
       "5  0.331662  0.387298  \n",
       "6  1.208305  0.648074  \n",
       "7  0.836660  0.424264  \n",
       "8  1.612452  1.148913  \n",
       "9  1.100000  0.754983  "
      ]
     },
     "execution_count": 11,
     "metadata": {},
     "output_type": "execute_result"
    }
   ],
   "source": [
    "compute_euclidian_dist(x, y)"
   ]
  },
  {
   "cell_type": "markdown",
   "metadata": {},
   "source": [
    "##### Calculates the distance between every data of x and with every data of y and represents the data in the form of dataframe."
   ]
  },
  {
   "cell_type": "markdown",
   "metadata": {},
   "source": [
    "### Testing knn_prediction() "
   ]
  },
  {
   "cell_type": "code",
   "execution_count": 5,
   "metadata": {},
   "outputs": [],
   "source": [
    "# Splitting train and test  using sklearn.train_test_split\n",
    "\n",
    "X = iris_data.drop('Species', axis=1)\n",
    "y = iris_data['Species']\n",
    "X_train, X_test, y_train, y_test = train_test_split(X, y, stratify=y,test_size=0.20)"
   ]
  },
  {
   "cell_type": "code",
   "execution_count": 6,
   "metadata": {},
   "outputs": [],
   "source": [
    "# Standardising the X_train and X_test\n",
    "scaler = StandardScaler()\n",
    "scaler.fit(X_train)\n",
    "\n",
    "X_train_t = scaler.transform(X_train)\n",
    "X_test_t = scaler.transform(X_test)\n",
    "\n",
    "X_train = pd.DataFrame(index=X_train.index.values, columns=X_train.columns, data=X_train_t)\n",
    "X_test = pd.DataFrame(index=X_test.index.values, columns=X_test.columns, data=X_test_t)"
   ]
  },
  {
   "cell_type": "code",
   "execution_count": 33,
   "metadata": {},
   "outputs": [],
   "source": [
    "# Prediction done using package from sklearn.neighbor\n",
    "\n",
    "classifier = KNeighborsClassifier(n_neighbors=5)\n",
    "classifier.fit(X_train, y_train)\n",
    "yhat_sklearn = classifier.predict(X_test)\n",
    "yhat_sklearn = pd.Series(index=y_test.index.values, data = yhat_sklearn)"
   ]
  },
  {
   "cell_type": "code",
   "execution_count": 23,
   "metadata": {},
   "outputs": [],
   "source": [
    "# Prediction done using the method knn_prediction build above. \n",
    "\n",
    "y_hat_knn_prediction = knn_prediction(X_train, y_train, X_test, 5)"
   ]
  },
  {
   "cell_type": "code",
   "execution_count": 36,
   "metadata": {},
   "outputs": [
    {
     "data": {
      "text/plain": [
       "0"
      ]
     },
     "execution_count": 36,
     "metadata": {},
     "output_type": "execute_result"
    }
   ],
   "source": [
    "'''\n",
    "Checking if the pedictions made by the sklearn.neighbor.KneighborsClassifiers are same as the predictions made by the\n",
    "method knn_prediction\n",
    "''' \n",
    "(yhat_sklearn != y_hat_knn_prediction).sum()"
   ]
  },
  {
   "cell_type": "markdown",
   "metadata": {},
   "source": [
    "### Conclusion \n",
    "##### The prediction results of the method developed is same as the KneighborsClassifiers from sklearn.neighbor package."
   ]
  }
 ],
 "metadata": {
  "kernelspec": {
   "display_name": "Python 3",
   "language": "python",
   "name": "python3"
  },
  "language_info": {
   "codemirror_mode": {
    "name": "ipython",
    "version": 3
   },
   "file_extension": ".py",
   "mimetype": "text/x-python",
   "name": "python",
   "nbconvert_exporter": "python",
   "pygments_lexer": "ipython3",
   "version": "3.8.0"
  }
 },
 "nbformat": 4,
 "nbformat_minor": 4
}
